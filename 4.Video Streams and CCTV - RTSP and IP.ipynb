{
 "cells": [
  {
   "cell_type": "markdown",
   "metadata": {},
   "source": [
    "# **RTSP Real Time Streaming Protocol**\n",
    "\n",
    "RSPT is client-server multimedia presentation control protocol, designed to address the needs for efficient delivery of streamed multimedia over IP networks. The underlying protocol used for RTSP is RTP protocol. \n",
    "\n",
    "RTSP was developed by RealNetworks, Netscape and Columbia University around 1996. It a protocol that is used for transferring real-time multimedia data (e.g audio/video) between client and a server. Usually a Client requests and server responds to the request with the data over this protocol. As it is a streaming protocol, with real time capability which means that the data is being simultaneously transferred and rendered in realtime. Here the multimedia data is encapsulated under Real-time Transport Protocol (RTP) packets. So its not RTSP who does the work, its the RTP. Most of the \n",
    "\n",
    "![](https://upload.wikimedia.org/wikipedia/commons/3/38/Zuragb.jpg)"
   ]
  },
  {
   "cell_type": "markdown",
   "metadata": {},
   "source": [
    "### **Interested in Ingesting Multiple IP Streams Easily? Look at ImageZMG**\n",
    "\n",
    "- https://github.com/jeffbass/imagezmq#introduction\n",
    "- https://www.pyimageconf.com/static/talks/jeff_bass.pdf"
   ]
  },
  {
   "cell_type": "code",
   "execution_count": 1,
   "metadata": {},
   "outputs": [],
   "source": [
    "import cv2"
   ]
  },
  {
   "cell_type": "code",
   "execution_count": 2,
   "metadata": {},
   "outputs": [
    {
     "name": "stdout",
     "output_type": "stream",
     "text": [
      "⚠️ Failed to grab frame from stream.\n"
     ]
    }
   ],
   "source": [
    "\n",
    "# RTSP Stream URL\n",
    "cap = cv2.VideoCapture(\"rtsp://184.72.239.149/vod/mp4:BigBuckBunny_175k.mov\")\n",
    "\n",
    "while True:\n",
    "    ret, frame = cap.read()\n",
    "    \n",
    "    if not ret:\n",
    "        print(\"⚠️ Failed to grab frame from stream.\")\n",
    "        break\n",
    "\n",
    "    cv2.imshow('RTSP Stream', frame)\n",
    "    \n",
    "    if cv2.waitKey(1) == 13:  # Press Enter to exit\n",
    "        break\n",
    "\n",
    "cap.release()\n",
    "cv2.destroyAllWindows()\n"
   ]
  },
  {
   "cell_type": "code",
   "execution_count": null,
   "metadata": {},
   "outputs": [],
   "source": [
    "import imagezmq\n",
    "\n",
    "image_hub = imagezmq.ImageHub()\n",
    "\n",
    "while True:  # show streamed images until Ctrl-C\n",
    "    rpi_name, image = image_hub.recv_image()\n",
    "    cv2.imshow(rpi_name, image) # 1 window for each RPi\n",
    "    cv2.waitKey(1)\n",
    "    image_hub.send_reply(b'OK')"
   ]
  },
  {
   "cell_type": "code",
   "execution_count": null,
   "metadata": {},
   "outputs": [],
   "source": []
  }
 ],
 "metadata": {
  "kernelspec": {
   "display_name": "venv",
   "language": "python",
   "name": "python3"
  },
  "language_info": {
   "codemirror_mode": {
    "name": "ipython",
    "version": 3
   },
   "file_extension": ".py",
   "mimetype": "text/x-python",
   "name": "python",
   "nbconvert_exporter": "python",
   "pygments_lexer": "ipython3",
   "version": "3.11.1"
  }
 },
 "nbformat": 4,
 "nbformat_minor": 2
}

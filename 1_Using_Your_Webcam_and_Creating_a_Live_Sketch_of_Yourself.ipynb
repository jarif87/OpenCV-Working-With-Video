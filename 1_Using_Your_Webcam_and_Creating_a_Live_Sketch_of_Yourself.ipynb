{
  "nbformat": 4,
  "nbformat_minor": 0,
  "metadata": {
    "colab": {
      "provenance": []
    },
    "kernelspec": {
      "name": "python3",
      "display_name": "Python 3"
    },
    "language_info": {
      "name": "python"
    }
  },
  "cells": [
    {
      "cell_type": "code",
      "execution_count": 1,
      "metadata": {
        "id": "n5RMQQyi4c22"
      },
      "outputs": [],
      "source": [
        "import cv2\n",
        "import numpy as np\n",
        "from IPython.display import display, Javascript, HTML\n",
        "from google.colab.patches import cv2_imshow\n",
        "from google.colab import output\n",
        "import PIL\n",
        "import io\n",
        "import base64\n"
      ]
    },
    {
      "cell_type": "markdown",
      "source": [
        "# Open Video from your Webcam"
      ],
      "metadata": {
        "id": "gu8ycwCaZlql"
      }
    },
    {
      "cell_type": "code",
      "source": [
        "# Imports\n",
        "import cv2\n",
        "import numpy as np\n",
        "import IPython.display as display\n",
        "from google.colab.patches import cv2_imshow\n",
        "from google.colab import output\n",
        "import PIL\n",
        "import io\n",
        "import base64\n",
        "\n",
        "# Globals\n",
        "video_frames = []\n",
        "recording = True\n",
        "\n",
        "# Function to receive frames\n",
        "def capture_frame(image_data):\n",
        "    global video_frames, recording\n",
        "    image_bytes = base64.b64decode(image_data.split(',')[1])\n",
        "    image = PIL.Image.open(io.BytesIO(image_bytes))\n",
        "    image = np.array(image)\n",
        "    image = cv2.cvtColor(image, cv2.COLOR_RGB2BGR)\n",
        "    if recording:\n",
        "        video_frames.append(image)\n",
        "\n",
        "# Function to save video\n",
        "def save_video():\n",
        "    global video_frames, recording\n",
        "    if video_frames:\n",
        "        height, width, _ = video_frames[0].shape\n",
        "        fps = 10\n",
        "        out = cv2.VideoWriter('recorded_video.mp4', cv2.VideoWriter_fourcc(*'mp4v'), fps, (width, height))\n",
        "        for frame in video_frames:\n",
        "            out.write(frame)\n",
        "        out.release()\n",
        "        print(\"✅ Video saved as 'recorded_video.mp4'\")\n",
        "    else:\n",
        "        print(\"⚠️ No frames recorded.\")\n",
        "    video_frames.clear()\n",
        "\n",
        "# Register callbacks\n",
        "output.register_callback('notebook.captureFrame', capture_frame)\n",
        "output.register_callback('notebook.saveVideo', save_video)\n",
        "\n",
        "# JavaScript to open cam and auto-record\n",
        "js = \"\"\"\n",
        "let videoStream;\n",
        "let videoElement;\n",
        "let recording = false;\n",
        "\n",
        "async function openAndRecord() {\n",
        "  videoElement = document.createElement('video');\n",
        "  videoStream = await navigator.mediaDevices.getUserMedia({ video: true });\n",
        "  videoElement.srcObject = videoStream;\n",
        "  videoElement.autoplay = true;\n",
        "  videoElement.style.width = '50%';\n",
        "  document.body.appendChild(videoElement);\n",
        "\n",
        "  await new Promise((resolve) => (videoElement.onloadedmetadata = resolve));\n",
        "  videoElement.play();\n",
        "  recording = true;\n",
        "  recordLoop();\n",
        "}\n",
        "\n",
        "async function recordLoop() {\n",
        "  while (recording) {\n",
        "    const canvas = document.createElement('canvas');\n",
        "    canvas.width = videoElement.videoWidth;\n",
        "    canvas.height = videoElement.videoHeight;\n",
        "    canvas.getContext('2d').drawImage(videoElement, 0, 0, canvas.width, canvas.height);\n",
        "    const imageData = canvas.toDataURL('image/jpeg');\n",
        "    google.colab.kernel.invokeFunction('notebook.captureFrame', [imageData], {});\n",
        "    await new Promise(resolve => setTimeout(resolve, 100)); // Adjust interval\n",
        "  }\n",
        "}\n",
        "\n",
        "// Stop & Save\n",
        "function stopRecording() {\n",
        "  recording = false;\n",
        "  google.colab.kernel.invokeFunction('notebook.saveVideo', [], {});\n",
        "}\n",
        "\n",
        "// Close cam\n",
        "function closeCamera() {\n",
        "  if (videoStream) {\n",
        "    videoStream.getTracks().forEach(track => track.stop());\n",
        "    videoElement.remove();\n",
        "    videoStream = null;\n",
        "  }\n",
        "}\n",
        "\n",
        "// Buttons\n",
        "if (!document.getElementById('stopRecordingButton')) {\n",
        "  const stopBtn = document.createElement('button');\n",
        "  stopBtn.innerText = 'Stop Recording';\n",
        "  stopBtn.id = 'stopRecordingButton';\n",
        "  stopBtn.onclick = stopRecording;\n",
        "  document.body.appendChild(stopBtn);\n",
        "}\n",
        "\n",
        "if (!document.getElementById('closeCameraButton')) {\n",
        "  const closeBtn = document.createElement('button');\n",
        "  closeBtn.innerText = 'Close Camera';\n",
        "  closeBtn.id = 'closeCameraButton';\n",
        "  closeBtn.onclick = closeCamera;\n",
        "  document.body.appendChild(closeBtn);\n",
        "}\n",
        "\n",
        "openAndRecord();\n",
        "\"\"\"\n",
        "\n",
        "# Display JS\n",
        "display.display(display.Javascript(js))\n"
      ],
      "metadata": {
        "colab": {
          "base_uri": "https://localhost:8080/",
          "height": 38
        },
        "id": "FV-a0cAXZi-9",
        "outputId": "778fa76c-7e1a-44de-ac53-ce1f5b70fdfb"
      },
      "execution_count": 2,
      "outputs": [
        {
          "output_type": "display_data",
          "data": {
            "text/plain": [
              "<IPython.core.display.Javascript object>"
            ],
            "application/javascript": [
              "\n",
              "let videoStream;\n",
              "let videoElement;\n",
              "let recording = false;\n",
              "\n",
              "async function openAndRecord() {\n",
              "  videoElement = document.createElement('video');\n",
              "  videoStream = await navigator.mediaDevices.getUserMedia({ video: true });\n",
              "  videoElement.srcObject = videoStream;\n",
              "  videoElement.autoplay = true;\n",
              "  videoElement.style.width = '50%';\n",
              "  document.body.appendChild(videoElement);\n",
              "  \n",
              "  await new Promise((resolve) => (videoElement.onloadedmetadata = resolve));\n",
              "  videoElement.play();\n",
              "  recording = true;\n",
              "  recordLoop();\n",
              "}\n",
              "\n",
              "async function recordLoop() {\n",
              "  while (recording) {\n",
              "    const canvas = document.createElement('canvas');\n",
              "    canvas.width = videoElement.videoWidth;\n",
              "    canvas.height = videoElement.videoHeight;\n",
              "    canvas.getContext('2d').drawImage(videoElement, 0, 0, canvas.width, canvas.height);\n",
              "    const imageData = canvas.toDataURL('image/jpeg');\n",
              "    google.colab.kernel.invokeFunction('notebook.captureFrame', [imageData], {});\n",
              "    await new Promise(resolve => setTimeout(resolve, 100)); // Adjust interval\n",
              "  }\n",
              "}\n",
              "\n",
              "// Stop & Save\n",
              "function stopRecording() {\n",
              "  recording = false;\n",
              "  google.colab.kernel.invokeFunction('notebook.saveVideo', [], {});\n",
              "}\n",
              "\n",
              "// Close cam\n",
              "function closeCamera() {\n",
              "  if (videoStream) {\n",
              "    videoStream.getTracks().forEach(track => track.stop());\n",
              "    videoElement.remove();\n",
              "    videoStream = null;\n",
              "  }\n",
              "}\n",
              "\n",
              "// Buttons\n",
              "if (!document.getElementById('stopRecordingButton')) {\n",
              "  const stopBtn = document.createElement('button');\n",
              "  stopBtn.innerText = 'Stop Recording';\n",
              "  stopBtn.id = 'stopRecordingButton';\n",
              "  stopBtn.onclick = stopRecording;\n",
              "  document.body.appendChild(stopBtn);\n",
              "}\n",
              "\n",
              "if (!document.getElementById('closeCameraButton')) {\n",
              "  const closeBtn = document.createElement('button');\n",
              "  closeBtn.innerText = 'Close Camera';\n",
              "  closeBtn.id = 'closeCameraButton';\n",
              "  closeBtn.onclick = closeCamera;\n",
              "  document.body.appendChild(closeBtn);\n",
              "}\n",
              "\n",
              "openAndRecord();\n"
            ]
          },
          "metadata": {}
        }
      ]
    },
    {
      "cell_type": "markdown",
      "source": [
        "# Use Your Webcam Feed to Create a Live Sketch of Yourself"
      ],
      "metadata": {
        "id": "d54Jq5NRZoDX"
      }
    },
    {
      "cell_type": "code",
      "source": [
        "import cv2\n",
        "import numpy as np\n",
        "import PIL\n",
        "import io\n",
        "import base64\n",
        "from google.colab.patches import cv2_imshow\n",
        "from IPython.display import display, Javascript, HTML\n",
        "from google.colab import output\n",
        "import time\n",
        "\n",
        "# Our sketch generating function\n",
        "def sketch(image):\n",
        "    # Convert image to grayscale\n",
        "    img_gray = cv2.cvtColor(image, cv2.COLOR_BGR2GRAY)\n",
        "\n",
        "    # Clean up image using Guassian Blur\n",
        "    img_gray_blur = cv2.GaussianBlur(img_gray, (5,5), 0)\n",
        "\n",
        "    # Extract edges\n",
        "    canny_edges = cv2.Canny(img_gray_blur, 10, 70)\n",
        "\n",
        "    # Do an invert binarize the image\n",
        "    ret, mask = cv2.threshold(canny_edges, 70, 255, cv2.THRESH_BINARY_INV)\n",
        "    return mask\n",
        "\n",
        "# Process frame and display sketch\n",
        "def process_frame(frame_data):\n",
        "    # Decode base64 image\n",
        "    image_bytes = base64.b64decode(frame_data.split(',')[1])\n",
        "    image = PIL.Image.open(io.BytesIO(image_bytes))\n",
        "    image_np = np.array(image)\n",
        "    image_bgr = cv2.cvtColor(image_np, cv2.COLOR_RGB2BGR)\n",
        "\n",
        "    # Apply sketch effect\n",
        "    sketch_result = sketch(image_bgr)\n",
        "\n",
        "    # Display the sketch\n",
        "    cv2_imshow(sketch_result)\n",
        "\n",
        "    return True\n",
        "\n",
        "# JavaScript to access camera and send frames to Python\n",
        "js_code = \"\"\"\n",
        "async function processCamera() {\n",
        "  const video = document.createElement('video');\n",
        "  const container = document.createElement('div');\n",
        "  container.style.position = 'relative';\n",
        "  document.body.appendChild(container);\n",
        "\n",
        "  // Create stop button\n",
        "  const stopBtn = document.createElement('button');\n",
        "  stopBtn.textContent = 'Stop Camera';\n",
        "  stopBtn.style = 'position: absolute; top: 5px; right: 5px; z-index: 100; padding: 5px 10px; background: red; color: white; border: none; border-radius: 3px;';\n",
        "  container.appendChild(stopBtn);\n",
        "\n",
        "  try {\n",
        "    // Access webcam\n",
        "    const stream = await navigator.mediaDevices.getUserMedia({video: true});\n",
        "    video.srcObject = stream;\n",
        "    video.style.display = 'none';\n",
        "    container.appendChild(video);\n",
        "\n",
        "    await new Promise(resolve => video.onloadedmetadata = resolve);\n",
        "    video.play();\n",
        "\n",
        "    const canvas = document.createElement('canvas');\n",
        "    canvas.width = video.videoWidth;\n",
        "    canvas.height = video.videoHeight;\n",
        "    const ctx = canvas.getContext('2d');\n",
        "\n",
        "    // Keep sending frames until stopped\n",
        "    let keepRunning = true;\n",
        "\n",
        "    stopBtn.onclick = () => {\n",
        "      keepRunning = false;\n",
        "      stream.getTracks().forEach(track => track.stop());\n",
        "      container.remove();\n",
        "    };\n",
        "\n",
        "    while (keepRunning) {\n",
        "      // Draw video to canvas\n",
        "      ctx.drawImage(video, 0, 0);\n",
        "\n",
        "      // Get frame as data URL\n",
        "      const imageData = canvas.toDataURL('image/jpeg');\n",
        "\n",
        "      // Send to Python for processing\n",
        "      await google.colab.kernel.invokeFunction('process_frame', [imageData], {});\n",
        "\n",
        "      // Small delay to not overwhelm the system\n",
        "      await new Promise(resolve => setTimeout(resolve, 100));\n",
        "    }\n",
        "  } catch (err) {\n",
        "    console.error('Camera error:', err);\n",
        "  }\n",
        "}\n",
        "\n",
        "// Start processing\n",
        "processCamera();\n",
        "\"\"\"\n",
        "\n",
        "# Register our function\n",
        "output.register_callback('process_frame', process_frame)\n",
        "\n",
        "# Clear any previous output\n",
        "from IPython.display import clear_output\n",
        "clear_output()\n",
        "\n",
        "# Start the camera with JavaScript\n",
        "display(Javascript(js_code))\n",
        "print(\"Camera started with sketch effect. Processing frames...\")"
      ],
      "metadata": {
        "colab": {
          "base_uri": "https://localhost:8080/",
          "height": 1000
        },
        "id": "YhhMpRNs4mMI",
        "outputId": "78fa754e-f928-4d14-e9cf-ef3acddc0da3"
      },
      "execution_count": 3,
      "outputs": [
        {
          "output_type": "display_data",
          "data": {
            "text/plain": [
              "<IPython.core.display.Javascript object>"
            ],
            "application/javascript": [
              "\n",
              "async function processCamera() {\n",
              "  const video = document.createElement('video');\n",
              "  const container = document.createElement('div');\n",
              "  container.style.position = 'relative';\n",
              "  document.body.appendChild(container);\n",
              "  \n",
              "  // Create stop button\n",
              "  const stopBtn = document.createElement('button');\n",
              "  stopBtn.textContent = 'Stop Camera';\n",
              "  stopBtn.style = 'position: absolute; top: 5px; right: 5px; z-index: 100; padding: 5px 10px; background: red; color: white; border: none; border-radius: 3px;';\n",
              "  container.appendChild(stopBtn);\n",
              "  \n",
              "  try {\n",
              "    // Access webcam\n",
              "    const stream = await navigator.mediaDevices.getUserMedia({video: true});\n",
              "    video.srcObject = stream;\n",
              "    video.style.display = 'none';\n",
              "    container.appendChild(video);\n",
              "    \n",
              "    await new Promise(resolve => video.onloadedmetadata = resolve);\n",
              "    video.play();\n",
              "    \n",
              "    const canvas = document.createElement('canvas');\n",
              "    canvas.width = video.videoWidth;\n",
              "    canvas.height = video.videoHeight;\n",
              "    const ctx = canvas.getContext('2d');\n",
              "    \n",
              "    // Keep sending frames until stopped\n",
              "    let keepRunning = true;\n",
              "    \n",
              "    stopBtn.onclick = () => {\n",
              "      keepRunning = false;\n",
              "      stream.getTracks().forEach(track => track.stop());\n",
              "      container.remove();\n",
              "    };\n",
              "    \n",
              "    while (keepRunning) {\n",
              "      // Draw video to canvas\n",
              "      ctx.drawImage(video, 0, 0);\n",
              "      \n",
              "      // Get frame as data URL\n",
              "      const imageData = canvas.toDataURL('image/jpeg');\n",
              "      \n",
              "      // Send to Python for processing\n",
              "      await google.colab.kernel.invokeFunction('process_frame', [imageData], {});\n",
              "      \n",
              "      // Small delay to not overwhelm the system\n",
              "      await new Promise(resolve => setTimeout(resolve, 100));\n",
              "    }\n",
              "  } catch (err) {\n",
              "    console.error('Camera error:', err);\n",
              "  }\n",
              "}\n",
              "\n",
              "// Start processing\n",
              "processCamera();\n"
            ]
          },
          "metadata": {}
        },
        {
          "output_type": "stream",
          "name": "stdout",
          "text": [
            "Camera started with sketch effect. Processing frames...\n"
          ]
        },
        {
          "output_type": "display_data",
          "data": {
            "text/plain": [
              "<PIL.Image.Image image mode=L size=640x480>"
            ],
            "image/png": "[encoded data removed]",
            "image/jpeg": "[encoded data removed]"
          },
          "metadata": {}
        },
        {
          "output_type": "display_data",
          "data": {
            "text/plain": [
              "<PIL.Image.Image image mode=L size=640x480>"
            ],
            "image/png": "[encoded data removed]",
            "image/jpeg": "[encoded data removed]"
          },
          "metadata": {}
        },
        {
          "output_type": "display_data",
          "data": {
            "text/plain": [
              "<PIL.Image.Image image mode=L size=640x480>"
            ],
            "image/png": "[encoded data removed]",
            "image/jpeg": "[encoded data removed]"
          },
          "metadata": {}
        },
        {
          "output_type": "display_data",
          "data": {
            "text/plain": [
              "<PIL.Image.Image image mode=L size=640x480>"
            ],
            "image/png": "[encoded data removed]",
            "image/jpeg": "[encoded data removed]"
          },
          "metadata": {}
        },
        {
          "output_type": "display_data",
          "data": {
            "text/plain": [
              "<PIL.Image.Image image mode=L size=640x480>"
            ],
            "image/png": "[encoded data removed]",
            "image/jpeg": "[encoded data removed]"
          },
          "metadata": {}
        },
        {
          "output_type": "display_data",
          "data": {
            "text/plain": [
              "<PIL.Image.Image image mode=L size=640x480>"
            ],
            "image/png": "[encoded data removed]",
            "image/jpeg": "[encoded data removed]"
          },
          "metadata": {}
        },
        {
          "output_type": "display_data",
          "data": {
            "text/plain": [
              "<PIL.Image.Image image mode=L size=640x480>"
            ],
            "image/png": "[encoded data removed]",
            "image/jpeg": "[encoded data removed]"
          },
          "metadata": {}
        },
        {
          "output_type": "display_data",
          "data": {
            "text/plain": [
              "<PIL.Image.Image image mode=L size=640x480>"
            ],
            "image/png": "[encoded data removed]",
            "image/jpeg": "[encoded data removed]"
          },
          "metadata": {}
        },
        {
          "output_type": "display_data",
          "data": {
            "text/plain": [
              "<PIL.Image.Image image mode=L size=640x480>"
            ],
            "image/png": "[encoded data removed]",
            "image/jpeg": "[encoded data removed]"
          },
          "metadata": {}
        },
        {
          "output_type": "display_data",
          "data": {
            "text/plain": [
              "<PIL.Image.Image image mode=L size=640x480>"
            ],
            "image/png": "[encoded data removed]",
            "image/jpeg": "[encoded data removed]"
          },
          "metadata": {}
        },
        {
          "output_type": "display_data",
          "data": {
            "text/plain": [
              "<PIL.Image.Image image mode=L size=640x480>"
            ],
            "image/png": "[encoded data removed]",
            "image/jpeg": "[encoded data removed]"
          },
          "metadata": {}
        },
        {
          "output_type": "display_data",
          "data": {
            "text/plain": [
              "<PIL.Image.Image image mode=L size=640x480>"
            ],
            "image/png": "[encoded data removed]",
            "image/jpeg": "[encoded data removed]"
          },
          "metadata": {}
        }
      ]
    },
    {
      "cell_type": "code",
      "source": [],
      "metadata": {
        "id": "1FBj753S4meI"
      },
      "execution_count": 3,
      "outputs": []
    }
  ]
}